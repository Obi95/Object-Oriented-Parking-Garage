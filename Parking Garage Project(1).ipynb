{
 "cells": [
  {
   "cell_type": "markdown",
   "metadata": {},
   "source": [
    "# Parking Garage Project\n",
    "\n",
    "Your assignment for today is to create a parking garage class to get more familiar with Object Oriented Programming(OOP). \n",
    "\n",
    "Your parking gargage class should have the following methods:\n",
    "- takeTicket\n",
    "   - This should decrease the amount of tickets available by 1\n",
    "   - This should decrease the amount of parkingSpaces available by 1\n",
    "- payForParking\n",
    "   - Display an input that waits for an amount from the user and store it in a variable\n",
    "   - If the payment variable is not empty then ->  display a message to the user that their ticket has been paid and they have 15mins to leave\n",
    "   - This should update the \"currentTicket\" dictionary key \"paid\" to True\n",
    "-leaveGarage\n",
    "   - If the ticket has been paid, display a message of \"Thank You, have a nice day\"\n",
    "   - If the ticket has not been paid, display an input prompt for payment\n",
    "      - Once paid, display message \"Thank you, have a nice day!\"\n",
    "   - Update parkingSpaces list to increase by 1\n",
    "   - Update tickets list to increase by 1\n",
    "\n",
    "You will need a few attributes as well:\n",
    "- tickets -> list\n",
    "- parkingSpaces -> list\n",
    "- currentTicket -> dictionary"
   ]
  },
  {
   "cell_type": "code",
   "execution_count": 11,
   "metadata": {},
   "outputs": [
    {
     "name": "stdout",
     "output_type": "stream",
     "text": [
      "Here is your ticket: 1\n",
      "Payment successful.\n"
     ]
    }
   ],
   "source": [
    "class ParkingGarage:\n",
    "    def __init__(self):\n",
    "        self.tickets = list(range(1, 21))\n",
    "        self.parked_cars = {} \n",
    "\n",
    "    def takeTicket(self):\n",
    "        if self.tickets:\n",
    "            ticket = self.tickets.pop(0)\n",
    "            self.parked_cars[ticket] = \"Car is Parked\"  \n",
    "            return f\"Here is your ticket: {ticket}\"\n",
    "        else:\n",
    "            return \"No available spaces.\"\n",
    "\n",
    "    def payTicket(self, ticket):\n",
    "        if ticket in self.parked_cars:\n",
    "            del self.parked_cars[ticket]\n",
    "            self.tickets.append(ticket)\n",
    "            return \"Payment successful.\"\n",
    "        else:\n",
    "            return \"Invalid ticket.\"\n",
    "\n",
    "    def leaveGarage(self, ticket):\n",
    "        if ticket in self.parked_cars:\n",
    "            del self.parked_cars[ticket]\n",
    "            self.tickets.append(ticket)\n",
    "            return \"Thank you, have a great day\"\n",
    "        else:\n",
    "            return \"Invalid ticket.\"\n",
    "\n",
    "garage = ParkingGarage()\n",
    "print(garage.takeTicket())\n",
    "print(garage.payTicket(1))\n"
   ]
  },
  {
   "cell_type": "code",
   "execution_count": null,
   "metadata": {},
   "outputs": [],
   "source": []
  },
  {
   "cell_type": "code",
   "execution_count": null,
   "metadata": {},
   "outputs": [],
   "source": []
  }
 ],
 "metadata": {
  "kernelspec": {
   "display_name": "Python 3 (ipykernel)",
   "language": "python",
   "name": "python3"
  },
  "language_info": {
   "codemirror_mode": {
    "name": "ipython",
    "version": 3
   },
   "file_extension": ".py",
   "mimetype": "text/x-python",
   "name": "python",
   "nbconvert_exporter": "python",
   "pygments_lexer": "ipython3",
   "version": "3.11.5"
  }
 },
 "nbformat": 4,
 "nbformat_minor": 2
}
